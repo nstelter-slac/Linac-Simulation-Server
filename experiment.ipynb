{
 "cells": [
  {
   "cell_type": "code",
   "execution_count": null,
   "metadata": {},
   "outputs": [],
   "source": [
    "from lcls_tools.common.measurements.emittance_measurement import QuadScanEmittance\n",
    "from lcls_tools.common.measurements.screen_profile import ScreenBeamProfileMeasurement\n",
    "from lcls_tools.common.devices.reader import create_magnet, create_screen\n",
    "from lcls_tools.common.frontend.plotting.image import plot_image_projection_fit\n",
    "import matplotlib.pyplot as plt\n",
    "import numpy as np"
   ]
  },
  {
   "cell_type": "code",
   "execution_count": 7,
   "metadata": {},
   "outputs": [
    {
     "name": "stdout",
     "output_type": "stream",
     "text": [
      "name='OTR2' controls_information=ScreenControlInformation(control_name='OTRS:IN20:571', PVs=ScreenPVSet(image=<PV 'OTRS:IN20:571:Image:ArrayData', count=480000/480000, type=time_double, access=read/write>, n_col=<PV 'OTRS:IN20:571:Image:ArraySize1_RBV', count=1, type=time_long, access=read/write>, n_row=<PV 'OTRS:IN20:571:Image:ArraySize0_RBV', count=1, type=time_long, access=read/write>, n_bits=<PV 'OTRS:IN20:571:N_OF_BITS': not connected>, resolution=<PV 'OTRS:IN20:571:RESOLUTION', count=1, type=time_double, access=read/write>)) metadata=Metadata(area='DL1', beam_path=['CU_ALINE', 'CU_HTXI', 'CU_HXR', 'CU_HXTES', 'CU_SFTH', 'CU_SPEC', 'CU_SXR'], sum_l_meters=14.241, type='PROF', safe_level=None, read_tolerance=None)\n",
      "bctrl=<PV 'QUAD:IN20:771:BCTRL', count=1, type=time_double, access=read/write> bact=<PV 'QUAD:IN20:771:BACT', count=1, type=time_double, access=read/write> bdes=<PV 'QUAD:IN20:771:BDES', count=1, type=time_double, access=read/write> bcon=<PV 'QUAD:IN20:771:BCON', count=1, type=time_double, access=read/write> ctrl=<PV 'QUAD:IN20:771:CTRL': not connected> bmin=<PV 'QUAD:IN20:771:BMIN', count=1, type=time_double, access=read/write> bmax=<PV 'QUAD:IN20:771:BMAX', count=1, type=time_double, access=read/write>\n",
      "image=<PV 'OTRS:IN20:571:Image:ArrayData', count=480000/480000, type=time_double, access=read/write> n_col=<PV 'OTRS:IN20:571:Image:ArraySize1_RBV', count=1, type=time_long, access=read/write> n_row=<PV 'OTRS:IN20:571:Image:ArraySize0_RBV', count=1, type=time_long, access=read/write> n_bits=<PV 'OTRS:IN20:571:N_OF_BITS': not connected> resolution=<PV 'OTRS:IN20:571:RESOLUTION', count=1, type=time_double, access=read/write>\n",
      "20.0\n"
     ]
    }
   ],
   "source": [
    "magnet = create_magnet('DL1', 'QM03')\n",
    "screen = create_screen('DL1', 'OTR2')\n",
    "print(screen)\n",
    "print(magnet.controls_information.PVs)\n",
    "bmax = magnet.bmax\n",
    "bmin = magnet.bmin\n",
    "print(screen.controls_information.PVs)\n",
    "print(bmax)\n",
    "scan_values = np.linspace(bmin,bmax,5) "
   ]
  },
  {
   "cell_type": "code",
   "execution_count": 8,
   "metadata": {},
   "outputs": [
    {
     "data": {
      "text/plain": [
       "QuadScanEmittance(name='quad_scan_emittance', save_data=True, save_location=None, energy=1000000000.0, scan_values=[-20.0, -10.0, 0.0, 10.0, 20.0], magnet=Magnet(name='QM03', controls_information=MagnetControlInformation(control_name='QUAD:IN20:771', PVs=MagnetPVSet(bctrl=<PV 'QUAD:IN20:771:BCTRL', count=1, type=time_double, access=read/write>, bact=<PV 'QUAD:IN20:771:BACT', count=1, type=time_double, access=read/write>, bdes=<PV 'QUAD:IN20:771:BDES', count=1, type=time_double, access=read/write>, bcon=<PV 'QUAD:IN20:771:BCON', count=1, type=time_double, access=read/write>, ctrl=<PV 'QUAD:IN20:771:CTRL': not connected>, bmin=<PV 'QUAD:IN20:771:BMIN', count=1, type=time_double, access=read/write>, bmax=<PV 'QUAD:IN20:771:BMAX', count=1, type=time_double, access=read/write>)), metadata=MagnetMetadata(area='DL1', beam_path=['CU_ALINE', 'CU_HTXI', 'CU_HXR', 'CU_HXTES', 'CU_SFTH', 'CU_SXR'], sum_l_meters=19.576, type='QUAD', safe_level=None, read_tolerance=None, l_eff=0.108, b_tolerance=None)), beamsize_measurement=ScreenBeamProfileMeasurement(name='beam_profile', save_data=True, save_location=None, device=Screen(name='OTR2', controls_information=ScreenControlInformation(control_name='OTRS:IN20:571', PVs=ScreenPVSet(image=<PV 'OTRS:IN20:571:Image:ArrayData', count=480000/480000, type=time_double, access=read/write>, n_col=<PV 'OTRS:IN20:571:Image:ArraySize1_RBV', count=1, type=time_long, access=read/write>, n_row=<PV 'OTRS:IN20:571:Image:ArraySize0_RBV', count=1, type=time_long, access=read/write>, n_bits=<PV 'OTRS:IN20:571:N_OF_BITS': not connected>, resolution=<PV 'OTRS:IN20:571:RESOLUTION', count=1, type=time_double, access=read/write>)), metadata=Metadata(area='DL1', beam_path=['CU_ALINE', 'CU_HTXI', 'CU_HXR', 'CU_HXTES', 'CU_SFTH', 'CU_SPEC', 'CU_SXR'], sum_l_meters=14.241, type='PROF', safe_level=None, read_tolerance=None)), image_processor=ImageProcessor(roi=None, background_image=None, threshold=0.0, gaussian_filter_size=None, median_filter_size=None), beam_fit=ImageProjectionFit(projection_fit_method=GaussianModel(parameters=ModelParameters(name='Gaussian Parameters', parameters={'mean': Parameter(bounds=[0.01, 1.0], initial_value=None, prior=None), 'sigma': Parameter(bounds=[0.01, 5.0], initial_value=None, prior=None), 'amplitude': Parameter(bounds=[0.01, 1.0], initial_value=None, prior=None), 'offset': Parameter(bounds=[0.01, 1.0], initial_value=None, prior=None)}), use_priors=True, fitted_params_dict=None)), fit_profile=True), n_measurement_shots=1, rmat=None, design_twiss=None, wait_time=5.0)"
      ]
     },
     "execution_count": 8,
     "metadata": {},
     "output_type": "execute_result"
    }
   ],
   "source": [
    "beam_measurement = ScreenBeamProfileMeasurement(device = screen)\n",
    "QuadScanEmittance(magnet=magnet, energy= 1e9, scan_values= scan_values, beamsize_measurement= beam_measurement)"
   ]
  },
  {
   "cell_type": "code",
   "execution_count": 9,
   "metadata": {},
   "outputs": [
    {
     "name": "stderr",
     "output_type": "stream",
     "text": [
      "/Users/cgarnier/anaconda3/envs/cheetah_simulation/lib/python3.9/site-packages/lcls_tools/common/data/fit/projection.py:82: OptimizeWarning: Initial guess is not within the specified bounds\n",
      "  res = scipy.optimize.minimize(\n"
     ]
    }
   ],
   "source": [
    "res = beam_measurement.measure()"
   ]
  },
  {
   "cell_type": "code",
   "execution_count": null,
   "metadata": {},
   "outputs": [
    {
     "name": "stdout",
     "output_type": "stream",
     "text": [
      "raw_images=array([[[0., 0., 0., ..., 0., 0., 0.],\n",
      "        [0., 0., 0., ..., 0., 0., 0.],\n",
      "        [0., 0., 0., ..., 0., 0., 0.],\n",
      "        ...,\n",
      "        [0., 0., 0., ..., 0., 0., 0.],\n",
      "        [0., 0., 0., ..., 0., 0., 0.],\n",
      "        [0., 0., 0., ..., 0., 0., 0.]]]) processed_images=array([[[0., 0., 0., ..., 0., 0., 0.],\n",
      "        [0., 0., 0., ..., 0., 0., 0.],\n",
      "        [0., 0., 0., ..., 0., 0., 0.],\n",
      "        ...,\n",
      "        [0., 0., 0., ..., 0., 0., 0.],\n",
      "        [0., 0., 0., ..., 0., 0., 0.],\n",
      "        [0., 0., 0., ..., 0., 0., 0.]]]) rms_sizes=array([[6.02672351, 8.03563137]]) centroids=array([[299.50105035, 399.49904   ]]) total_intensities=array([1.00000014e-09]) metadata={'name': 'beam_profile', 'save_data': True, 'save_location': None, 'device': {'name': 'OTR2', 'controls_information': {'control_name': 'OTRS:IN20:571', 'PVs': {'image': <PV 'OTRS:IN20:571:Image:ArrayData', count=480000/480000, type=time_double, access=read/write>, 'n_col': <PV 'OTRS:IN20:571:Image:ArraySize1_RBV', count=1, type=time_long, access=read/write>, 'n_row': <PV 'OTRS:IN20:571:Image:ArraySize0_RBV', count=1, type=time_long, access=read/write>, 'n_bits': <PV 'OTRS:IN20:571:N_OF_BITS': not connected>, 'resolution': <PV 'OTRS:IN20:571:RESOLUTION', count=1, type=time_double, access=read/write>}}, 'metadata': {'area': 'DL1', 'beam_path': ['CU_ALINE', 'CU_HTXI', 'CU_HXR', 'CU_HXTES', 'CU_SFTH', 'CU_SPEC', 'CU_SXR'], 'sum_l_meters': 14.241, 'type': 'PROF', 'safe_level': None, 'read_tolerance': None}}, 'image_processor': {'roi': None, 'background_image': None, 'threshold': 0.0, 'gaussian_filter_size': None, 'median_filter_size': None}, 'beam_fit': {}, 'fit_profile': True}\n"
     ]
    }
   ],
   "source": [
    "\n",
    "print(res[processed_images])\n",
    "#plot_image_projection_fit(res)\n"
   ]
  }
 ],
 "metadata": {
  "kernelspec": {
   "display_name": "cheetah_simulation",
   "language": "python",
   "name": "python3"
  },
  "language_info": {
   "codemirror_mode": {
    "name": "ipython",
    "version": 3
   },
   "file_extension": ".py",
   "mimetype": "text/x-python",
   "name": "python",
   "nbconvert_exporter": "python",
   "pygments_lexer": "ipython3",
   "version": "3.9.21"
  }
 },
 "nbformat": 4,
 "nbformat_minor": 2
}
