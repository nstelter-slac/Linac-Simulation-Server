{
 "cells": [
  {
   "cell_type": "code",
   "execution_count": 1,
   "id": "2ea9a223",
   "metadata": {},
   "outputs": [],
   "source": [
    "import torch\n",
    "from cheetah import Segment, TransverseDeflectingCavity, Drift, Quadrupole, BPM"
   ]
  },
  {
   "cell_type": "code",
   "execution_count": 2,
   "id": "1dd1e3ef",
   "metadata": {},
   "outputs": [],
   "source": [
    "tdc = TransverseDeflectingCavity(\n",
    "    length=torch.tensor(0.5),      # cavity length in meters\n",
    "    voltage=torch.tensor(2e6),     # deflecting voltage in volts\n",
    "    phase=torch.tensor(0.0),       # RF phase in degrees (or radians as per Cheetah convention)\n",
    "    frequency=torch.tensor(2.856e9), # RF frequency in Hz\n",
    "    name=\"TDC1\"                   # optional name identifier\n",
    ")"
   ]
  },
  {
   "cell_type": "code",
   "execution_count": 3,
   "id": "6edb74ae",
   "metadata": {},
   "outputs": [],
   "source": [
    "quad = Quadrupole(length=torch.tensor(0.2), k1=torch.tensor(1.0), name=\"Q1\")\n",
    "drift = Drift(length=torch.tensor(1.0), name=\"D1\")\n",
    "bpm   = BPM(name=\"BPM1\")"
   ]
  },
  {
   "cell_type": "code",
   "execution_count": 4,
   "id": "2225d88c",
   "metadata": {},
   "outputs": [],
   "source": [
    "beamline = Segment(elements=[bpm, drift, tdc, quad])"
   ]
  },
  {
   "cell_type": "code",
   "execution_count": null,
   "id": "506b51ce",
   "metadata": {},
   "outputs": [],
   "source": []
  }
 ],
 "metadata": {
  "kernelspec": {
   "display_name": "linac-simulation",
   "language": "python",
   "name": "python3"
  },
  "language_info": {
   "codemirror_mode": {
    "name": "ipython",
    "version": 3
   },
   "file_extension": ".py",
   "mimetype": "text/x-python",
   "name": "python",
   "nbconvert_exporter": "python",
   "pygments_lexer": "ipython3",
   "version": "3.11.11"
  }
 },
 "nbformat": 4,
 "nbformat_minor": 5
}
