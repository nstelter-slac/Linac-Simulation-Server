{
 "cells": [
  {
   "cell_type": "code",
   "execution_count": 27,
   "id": "2ea9a223",
   "metadata": {},
   "outputs": [],
   "source": [
    "import torch\n",
    "from cheetah import Segment, TransverseDeflectingCavity, Drift, Quadrupole, BPM\n"
   ]
  },
  {
   "cell_type": "code",
   "execution_count": 28,
   "id": "1dd1e3ef",
   "metadata": {},
   "outputs": [],
   "source": [
    "tdc = TransverseDeflectingCavity(\n",
    "    length=torch.tensor(0.5),      # cavity length in meters\n",
    "    voltage=torch.tensor(2e6),     # deflecting voltage in volts\n",
    "    phase=torch.tensor(0.0),       # RF phase in degrees (or radians as per Cheetah convention)\n",
    "    frequency=torch.tensor(2.856e9), # RF frequency in Hz\n",
    "    name=\"STCAV2\"                   # optional name identifier\n",
    ")"
   ]
  },
  {
   "cell_type": "code",
   "execution_count": 29,
   "id": "6edb74ae",
   "metadata": {},
   "outputs": [],
   "source": [
    "quad = Quadrupole(length=torch.tensor(0.2), k1=torch.tensor(1.0), name=\"Q1\")\n",
    "drift = Drift(length=torch.tensor(1.0), name=\"D1\")\n",
    "bpm   = BPM(name=\"BPM1\")"
   ]
  },
  {
   "cell_type": "code",
   "execution_count": 30,
   "id": "2225d88c",
   "metadata": {},
   "outputs": [],
   "source": [
    "beamline = Segment(elements=[bpm, drift, tdc, quad])"
   ]
  },
  {
   "cell_type": "code",
   "execution_count": 31,
   "id": "506b51ce",
   "metadata": {},
   "outputs": [],
   "source": [
    "from lcls_tools.common.devices.reader import create_tcav\n",
    "import epics"
   ]
  },
  {
   "cell_type": "code",
   "execution_count": 32,
   "id": "8d7e3081",
   "metadata": {},
   "outputs": [],
   "source": [
    "tcav = create_tcav('DIAG0', 'STCAV2')"
   ]
  },
  {
   "cell_type": "code",
   "execution_count": 33,
   "id": "27d010ed",
   "metadata": {},
   "outputs": [
    {
     "data": {
      "text/plain": [
       "0"
      ]
     },
     "execution_count": 33,
     "metadata": {},
     "output_type": "execute_result"
    }
   ],
   "source": [
    "tcav.amp_fbenb"
   ]
  },
  {
   "cell_type": "code",
   "execution_count": null,
   "id": "39ea6dbc",
   "metadata": {},
   "outputs": [
    {
     "ename": "ValidationError",
     "evalue": "1 validation error for TCAVPVSet\namp_fbenb\n  Instance is frozen [type=frozen_instance, input_value='Enable', input_type=str]\n    For further information visit https://errors.pydantic.dev/2.10/v/frozen_instance",
     "output_type": "error",
     "traceback": [
      "\u001b[31m---------------------------------------------------------------------------\u001b[39m",
      "\u001b[31mValidationError\u001b[39m                           Traceback (most recent call last)",
      "\u001b[36mCell\u001b[39m\u001b[36m \u001b[39m\u001b[32mIn[34]\u001b[39m\u001b[32m, line 3\u001b[39m\n\u001b[32m      1\u001b[39m \u001b[38;5;28;01mimport\u001b[39;00m\u001b[38;5;250m \u001b[39m\u001b[34;01mepics\u001b[39;00m\n\u001b[32m      2\u001b[39m epics.caget(\u001b[33m'\u001b[39m\u001b[33mTCAV:DIAG0:11:AFBENB\u001b[39m\u001b[33m'\u001b[39m)\n\u001b[32m----> \u001b[39m\u001b[32m3\u001b[39m \u001b[43mtcav\u001b[49m\u001b[43m.\u001b[49m\u001b[43mamp_fbenb\u001b[49m = \u001b[33m'\u001b[39m\u001b[33mEnable\u001b[39m\u001b[33m'\u001b[39m\n",
      "\u001b[36mFile \u001b[39m\u001b[32m~/anaconda3/envs/linac-simulation/lib/python3.11/site-packages/pydantic/main.py:918\u001b[39m, in \u001b[36mBaseModel.__setattr__\u001b[39m\u001b[34m(self, name, value)\u001b[39m\n\u001b[32m    913\u001b[39m \u001b[38;5;66;03m# NOTE: We currently special case properties and `cached_property`, but we might need\u001b[39;00m\n\u001b[32m    914\u001b[39m \u001b[38;5;66;03m# to generalize this to all data/non-data descriptors at some point. For non-data descriptors\u001b[39;00m\n\u001b[32m    915\u001b[39m \u001b[38;5;66;03m# (such as `cached_property`), it isn't obvious though. `cached_property` caches the value\u001b[39;00m\n\u001b[32m    916\u001b[39m \u001b[38;5;66;03m# to the instance's `__dict__`, but other non-data descriptors might do things differently.\u001b[39;00m\n\u001b[32m    917\u001b[39m \u001b[38;5;28;01mif\u001b[39;00m \u001b[38;5;28misinstance\u001b[39m(attr, \u001b[38;5;28mproperty\u001b[39m):\n\u001b[32m--> \u001b[39m\u001b[32m918\u001b[39m     \u001b[43mattr\u001b[49m\u001b[43m.\u001b[49m\u001b[34;43m__set__\u001b[39;49m\u001b[43m(\u001b[49m\u001b[38;5;28;43mself\u001b[39;49m\u001b[43m,\u001b[49m\u001b[43m \u001b[49m\u001b[43mvalue\u001b[49m\u001b[43m)\u001b[49m\n\u001b[32m    919\u001b[39m \u001b[38;5;28;01melif\u001b[39;00m \u001b[38;5;28misinstance\u001b[39m(attr, cached_property):\n\u001b[32m    920\u001b[39m     \u001b[38;5;28mself\u001b[39m.\u001b[34m__dict__\u001b[39m[name] = value\n",
      "\u001b[36mFile \u001b[39m\u001b[32m~/Desktop/source-lcls-tools/lcls-tools/lcls_tools/common/devices/tcav.py:184\u001b[39m, in \u001b[36mTCAV.amp_fbenb\u001b[39m\u001b[34m(self, enum_str)\u001b[39m\n\u001b[32m    180\u001b[39m \u001b[38;5;28;01mif\u001b[39;00m enum_str \u001b[38;5;129;01mnot\u001b[39;00m \u001b[38;5;129;01min\u001b[39;00m field_options:\n\u001b[32m    181\u001b[39m     \u001b[38;5;28;01mraise\u001b[39;00m \u001b[38;5;167;01mValueError\u001b[39;00m(\n\u001b[32m    182\u001b[39m         \u001b[33mf\u001b[39m\u001b[33m\"\u001b[39m\u001b[38;5;132;01m{\u001b[39;00menum_str\u001b[38;5;132;01m}\u001b[39;00m\u001b[33m not in list of acceptable enumerate string PV values\u001b[39m\u001b[33m\"\u001b[39m\n\u001b[32m    183\u001b[39m     )\n\u001b[32m--> \u001b[39m\u001b[32m184\u001b[39m \u001b[38;5;28;43mself\u001b[39;49m\u001b[43m.\u001b[49m\u001b[43mcontrols_information\u001b[49m\u001b[43m.\u001b[49m\u001b[43mPVs\u001b[49m\u001b[43m.\u001b[49m\u001b[43mamp_fbenb\u001b[49m = enum_str\n",
      "\u001b[36mFile \u001b[39m\u001b[32m~/anaconda3/envs/linac-simulation/lib/python3.11/site-packages/pydantic/main.py:910\u001b[39m, in \u001b[36mBaseModel.__setattr__\u001b[39m\u001b[34m(self, name, value)\u001b[39m\n\u001b[32m    907\u001b[39m             \u001b[38;5;28mself\u001b[39m.__pydantic_private__[name] = value\n\u001b[32m    908\u001b[39m     \u001b[38;5;28;01mreturn\u001b[39;00m\n\u001b[32m--> \u001b[39m\u001b[32m910\u001b[39m \u001b[38;5;28;43mself\u001b[39;49m\u001b[43m.\u001b[49m\u001b[43m_check_frozen\u001b[49m\u001b[43m(\u001b[49m\u001b[43mname\u001b[49m\u001b[43m,\u001b[49m\u001b[43m \u001b[49m\u001b[43mvalue\u001b[49m\u001b[43m)\u001b[49m\n\u001b[32m    912\u001b[39m attr = \u001b[38;5;28mgetattr\u001b[39m(\u001b[38;5;28mself\u001b[39m.\u001b[34m__class__\u001b[39m, name, \u001b[38;5;28;01mNone\u001b[39;00m)\n\u001b[32m    913\u001b[39m \u001b[38;5;66;03m# NOTE: We currently special case properties and `cached_property`, but we might need\u001b[39;00m\n\u001b[32m    914\u001b[39m \u001b[38;5;66;03m# to generalize this to all data/non-data descriptors at some point. For non-data descriptors\u001b[39;00m\n\u001b[32m    915\u001b[39m \u001b[38;5;66;03m# (such as `cached_property`), it isn't obvious though. `cached_property` caches the value\u001b[39;00m\n\u001b[32m    916\u001b[39m \u001b[38;5;66;03m# to the instance's `__dict__`, but other non-data descriptors might do things differently.\u001b[39;00m\n",
      "\u001b[36mFile \u001b[39m\u001b[32m~/anaconda3/envs/linac-simulation/lib/python3.11/site-packages/pydantic/main.py:985\u001b[39m, in \u001b[36mBaseModel._check_frozen\u001b[39m\u001b[34m(self, name, value)\u001b[39m\n\u001b[32m    979\u001b[39m     \u001b[38;5;28;01mreturn\u001b[39;00m\n\u001b[32m    980\u001b[39m error: pydantic_core.InitErrorDetails = {\n\u001b[32m    981\u001b[39m     \u001b[33m'\u001b[39m\u001b[33mtype\u001b[39m\u001b[33m'\u001b[39m: typ,\n\u001b[32m    982\u001b[39m     \u001b[33m'\u001b[39m\u001b[33mloc\u001b[39m\u001b[33m'\u001b[39m: (name,),\n\u001b[32m    983\u001b[39m     \u001b[33m'\u001b[39m\u001b[33minput\u001b[39m\u001b[33m'\u001b[39m: value,\n\u001b[32m    984\u001b[39m }\n\u001b[32m--> \u001b[39m\u001b[32m985\u001b[39m \u001b[38;5;28;01mraise\u001b[39;00m pydantic_core.ValidationError.from_exception_data(\u001b[38;5;28mself\u001b[39m.\u001b[34m__class__\u001b[39m.\u001b[34m__name__\u001b[39m, [error])\n",
      "\u001b[31mValidationError\u001b[39m: 1 validation error for TCAVPVSet\namp_fbenb\n  Instance is frozen [type=frozen_instance, input_value='Enable', input_type=str]\n    For further information visit https://errors.pydantic.dev/2.10/v/frozen_instance"
     ]
    }
   ],
   "source": [
    "import epics\n",
    "epics.caget('TCAV:DIAG0:11:AFBENB')\n",
    "#tcav.amp_fbenb = 'Enable'"
   ]
  },
  {
   "cell_type": "code",
   "execution_count": null,
   "id": "6855864f",
   "metadata": {},
   "outputs": [],
   "source": [
    "tcav.phase_fbenb = 'Enable'"
   ]
  },
  {
   "cell_type": "code",
   "execution_count": null,
   "id": "d808a3b9",
   "metadata": {},
   "outputs": [
    {
     "data": {
      "text/plain": [
       "'Disable'"
      ]
     },
     "execution_count": 24,
     "metadata": {},
     "output_type": "execute_result"
    }
   ],
   "source": [
    "epics.caget('TCAV:DIAG0:11:PFBENB',as_string=True, use_monitor=False)"
   ]
  },
  {
   "cell_type": "code",
   "execution_count": null,
   "id": "3f74b821",
   "metadata": {},
   "outputs": [],
   "source": [
    "pv = epics.PV('TCAV:DIAG0:11:PFBENB')"
   ]
  },
  {
   "cell_type": "code",
   "execution_count": null,
   "id": "37ace1aa",
   "metadata": {},
   "outputs": [
    {
     "data": {
      "text/plain": [
       "{'status': 17, 'severity': 3, 'enum_strs': ('Disable', 'Enable')}"
      ]
     },
     "execution_count": 26,
     "metadata": {},
     "output_type": "execute_result"
    }
   ],
   "source": [
    "pv.get_ctrlvars(timeout=2.5)"
   ]
  },
  {
   "cell_type": "code",
   "execution_count": null,
   "id": "b7a33e47",
   "metadata": {},
   "outputs": [],
   "source": []
  }
 ],
 "metadata": {
  "kernelspec": {
   "display_name": "linac-simulation",
   "language": "python",
   "name": "python3"
  },
  "language_info": {
   "codemirror_mode": {
    "name": "ipython",
    "version": 3
   },
   "file_extension": ".py",
   "mimetype": "text/x-python",
   "name": "python",
   "nbconvert_exporter": "python",
   "pygments_lexer": "ipython3",
   "version": "3.11.11"
  }
 },
 "nbformat": 4,
 "nbformat_minor": 5
}
